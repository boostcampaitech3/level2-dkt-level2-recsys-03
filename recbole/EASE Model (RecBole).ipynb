{
 "cells": [
  {
   "cell_type": "markdown",
   "id": "1fc3ad01",
   "metadata": {},
   "source": [
    "## ⚙️ RecBole 라이브러리"
   ]
  },
  {
   "cell_type": "markdown",
   "id": "1fce05f8",
   "metadata": {},
   "source": [
    "### [RecBole](https://github.com/RUCAIBox/RecBole)\n",
    "- PyTorch기반 추천 시스템 알고리즘 통합 라이브러리 ([문서](https://recbole.io/docs/))\n",
    "- 다양한 추천 시스템 알고리즘 포함\n",
    "- 여기에서는 라이브러리에 구현되어 있는 [EASE](https://github.com/RUCAIBox/RecBole/blob/master/recbole/model/general_recommender/ease.py) 알고리즘 사용\n",
    "\n",
    "### [파일 형식](https://recbole.io/docs/user_guide/usage/running_new_dataset.html)\n",
    "- 새로운 데이터를 적용하기 위해서는 Data loader를 구현하거나 라이브러리에서 정의한 형식에 맞춰 데이터 파일을 생성하는 방법이 있음\n",
    "- 여기에서는 기존 데이터를 변환하여 데이터 파일을 생성하도록 함"
   ]
  },
  {
   "cell_type": "markdown",
   "id": "7e77c3d7",
   "metadata": {},
   "source": [
    "데이터 설정 파일 (data.yaml)\n",
    "\n",
    "```yaml\n",
    "USER_ID_FIELD: user_id\n",
    "ITEM_ID_FIELD: item_id\n",
    "RATING_FIELD: rating\n",
    "TIME_FIELD: timestamp\n",
    "\n",
    "load_col:\n",
    "    inter: [user_id, item_id, rating, timestamp]\n",
    "\n",
    "user_inter_num_interval: \"[0,inf)\"\n",
    "item_inter_num_interval: \"[0,inf)\"\n",
    "val_interval:\n",
    "    rating: \"[0,1]\"\n",
    "    timestamp: \"[97830000, inf)\"\n",
    "```\n",
    "\n",
    "- 사용자, 아이템(문제) 간의 링크만 구현\n",
    "- rating은 정답을 맞출 수 있을지의 유무 만으로 0 또는 1로 설정\n",
    "- 설정 파일에서 데이터 파일의 seprator 등 설정 가능 (기본적으론 tab)\n",
    "\n",
    "```\n",
    "user_id:token\titem_id:token\trating:float\ttimestamp:float\n",
    "0\t12796\t1\t1584976631\n",
    "0\t12797\t1\t1584976634\n",
    "0\t12798\t1\t1584976642\n",
    "0\t12799\t1\t1584976649\n",
    "0\t12800\t1\t1584976656\n",
    "0\t12801\t1\t1584976667\n",
    "0\t12809\t0\t1585169523\n",
    "0\t12810\t1\t1585169530\n",
    "0\t12811\t1\t1585169594\n",
    "0\t12812\t1\t1585169609\n",
    "0\t12813\t1\t1585169628\n",
    "0\t12814\t1\t1585169635\n",
    "0\t12815\t1\t1585169651\n",
    "```"
   ]
  },
  {
   "cell_type": "markdown",
   "id": "c7b9389a",
   "metadata": {},
   "source": [
    "## ⚙️ 환경 설정 및 전처리 (Environment Setting & Preprocessing)"
   ]
  },
  {
   "cell_type": "markdown",
   "id": "0d632e31",
   "metadata": {},
   "source": [
    "### Install module\n",
    "\n",
    "- Recbole 모듈 설치"
   ]
  },
  {
   "cell_type": "code",
   "execution_count": 1,
   "id": "c4c08fe9",
   "metadata": {},
   "outputs": [
    {
     "name": "stdout",
     "output_type": "stream",
     "text": [
      "Requirement already satisfied: recbole in /opt/conda/lib/python3.8/site-packages (1.0.1)\n",
      "Requirement already satisfied: scikit-learn>=0.23.2 in /opt/conda/lib/python3.8/site-packages (from recbole) (1.0.2)\n",
      "Requirement already satisfied: pyyaml>=5.1.0 in /opt/conda/lib/python3.8/site-packages (from recbole) (5.3.1)\n",
      "Requirement already satisfied: colorlog==4.7.2 in /opt/conda/lib/python3.8/site-packages (from recbole) (4.7.2)\n",
      "Requirement already satisfied: numpy>=1.17.2 in /opt/conda/lib/python3.8/site-packages (from recbole) (1.19.2)\n",
      "Requirement already satisfied: tensorboard>=2.5.0 in /opt/conda/lib/python3.8/site-packages (from recbole) (2.8.0)\n",
      "Requirement already satisfied: tqdm>=4.48.2 in /opt/conda/lib/python3.8/site-packages (from recbole) (4.51.0)\n",
      "Requirement already satisfied: torch>=1.7.0 in /opt/conda/lib/python3.8/site-packages (from recbole) (1.10.0)\n",
      "Requirement already satisfied: scipy==1.6.0 in /opt/conda/lib/python3.8/site-packages (from recbole) (1.6.0)\n",
      "Requirement already satisfied: colorama==0.4.4 in /opt/conda/lib/python3.8/site-packages (from recbole) (0.4.4)\n",
      "Requirement already satisfied: pandas>=1.0.5 in /opt/conda/lib/python3.8/site-packages (from recbole) (1.4.2)\n",
      "Requirement already satisfied: threadpoolctl>=2.0.0 in /opt/conda/lib/python3.8/site-packages (from scikit-learn>=0.23.2->recbole) (3.1.0)\n",
      "Requirement already satisfied: joblib>=0.11 in /opt/conda/lib/python3.8/site-packages (from scikit-learn>=0.23.2->recbole) (1.1.0)\n",
      "Requirement already satisfied: protobuf>=3.6.0 in /opt/conda/lib/python3.8/site-packages (from tensorboard>=2.5.0->recbole) (3.20.0)\n",
      "Requirement already satisfied: requests<3,>=2.21.0 in /opt/conda/lib/python3.8/site-packages (from tensorboard>=2.5.0->recbole) (2.24.0)\n",
      "Requirement already satisfied: grpcio>=1.24.3 in /opt/conda/lib/python3.8/site-packages (from tensorboard>=2.5.0->recbole) (1.44.0)\n",
      "Requirement already satisfied: tensorboard-plugin-wit>=1.6.0 in /opt/conda/lib/python3.8/site-packages (from tensorboard>=2.5.0->recbole) (1.8.1)\n",
      "Requirement already satisfied: google-auth<3,>=1.6.3 in /opt/conda/lib/python3.8/site-packages (from tensorboard>=2.5.0->recbole) (2.6.6)\n",
      "Requirement already satisfied: markdown>=2.6.8 in /opt/conda/lib/python3.8/site-packages (from tensorboard>=2.5.0->recbole) (3.3.6)\n",
      "Requirement already satisfied: werkzeug>=0.11.15 in /opt/conda/lib/python3.8/site-packages (from tensorboard>=2.5.0->recbole) (2.1.1)\n",
      "Requirement already satisfied: tensorboard-data-server<0.7.0,>=0.6.0 in /opt/conda/lib/python3.8/site-packages (from tensorboard>=2.5.0->recbole) (0.6.1)\n",
      "Requirement already satisfied: google-auth-oauthlib<0.5,>=0.4.1 in /opt/conda/lib/python3.8/site-packages (from tensorboard>=2.5.0->recbole) (0.4.6)\n",
      "Requirement already satisfied: absl-py>=0.4 in /opt/conda/lib/python3.8/site-packages (from tensorboard>=2.5.0->recbole) (1.0.0)\n",
      "Requirement already satisfied: setuptools>=41.0.0 in /opt/conda/lib/python3.8/site-packages (from tensorboard>=2.5.0->recbole) (50.3.1.post20201107)\n",
      "Requirement already satisfied: wheel>=0.26 in /opt/conda/lib/python3.8/site-packages (from tensorboard>=2.5.0->recbole) (0.35.1)\n",
      "Requirement already satisfied: typing-extensions in /opt/conda/lib/python3.8/site-packages (from torch>=1.7.0->recbole) (3.7.4.3)\n",
      "Requirement already satisfied: python-dateutil>=2.8.1 in /opt/conda/lib/python3.8/site-packages (from pandas>=1.0.5->recbole) (2.8.2)\n",
      "Requirement already satisfied: pytz>=2020.1 in /opt/conda/lib/python3.8/site-packages (from pandas>=1.0.5->recbole) (2020.5)\n",
      "Requirement already satisfied: chardet<4,>=3.0.2 in /opt/conda/lib/python3.8/site-packages (from requests<3,>=2.21.0->tensorboard>=2.5.0->recbole) (3.0.4)\n",
      "Requirement already satisfied: certifi>=2017.4.17 in /opt/conda/lib/python3.8/site-packages (from requests<3,>=2.21.0->tensorboard>=2.5.0->recbole) (2020.12.5)\n",
      "Requirement already satisfied: urllib3!=1.25.0,!=1.25.1,<1.26,>=1.21.1 in /opt/conda/lib/python3.8/site-packages (from requests<3,>=2.21.0->tensorboard>=2.5.0->recbole) (1.25.11)\n",
      "Requirement already satisfied: idna<3,>=2.5 in /opt/conda/lib/python3.8/site-packages (from requests<3,>=2.21.0->tensorboard>=2.5.0->recbole) (2.10)\n",
      "Requirement already satisfied: six>=1.5.2 in /opt/conda/lib/python3.8/site-packages (from grpcio>=1.24.3->tensorboard>=2.5.0->recbole) (1.15.0)\n",
      "Requirement already satisfied: rsa<5,>=3.1.4; python_version >= \"3.6\" in /opt/conda/lib/python3.8/site-packages (from google-auth<3,>=1.6.3->tensorboard>=2.5.0->recbole) (4.8)\n",
      "Requirement already satisfied: pyasn1-modules>=0.2.1 in /opt/conda/lib/python3.8/site-packages (from google-auth<3,>=1.6.3->tensorboard>=2.5.0->recbole) (0.2.8)\n",
      "Requirement already satisfied: cachetools<6.0,>=2.0.0 in /opt/conda/lib/python3.8/site-packages (from google-auth<3,>=1.6.3->tensorboard>=2.5.0->recbole) (5.0.0)\n",
      "Requirement already satisfied: importlib-metadata>=4.4; python_version < \"3.10\" in /opt/conda/lib/python3.8/site-packages (from markdown>=2.6.8->tensorboard>=2.5.0->recbole) (4.11.3)\n",
      "Requirement already satisfied: requests-oauthlib>=0.7.0 in /opt/conda/lib/python3.8/site-packages (from google-auth-oauthlib<0.5,>=0.4.1->tensorboard>=2.5.0->recbole) (1.3.1)\n",
      "Requirement already satisfied: pyasn1>=0.1.3 in /opt/conda/lib/python3.8/site-packages (from rsa<5,>=3.1.4; python_version >= \"3.6\"->google-auth<3,>=1.6.3->tensorboard>=2.5.0->recbole) (0.4.8)\n",
      "Requirement already satisfied: zipp>=0.5 in /opt/conda/lib/python3.8/site-packages (from importlib-metadata>=4.4; python_version < \"3.10\"->markdown>=2.6.8->tensorboard>=2.5.0->recbole) (3.8.0)\n",
      "Requirement already satisfied: oauthlib>=3.0.0 in /opt/conda/lib/python3.8/site-packages (from requests-oauthlib>=0.7.0->google-auth-oauthlib<0.5,>=0.4.1->tensorboard>=2.5.0->recbole) (3.2.0)\n"
     ]
    }
   ],
   "source": [
    "!pip install recbole"
   ]
  },
  {
   "cell_type": "markdown",
   "id": "6225c180",
   "metadata": {},
   "source": [
    "### Loading Library\n",
    "- 위에서 언급한 Recbole 함수를 로드"
   ]
  },
  {
   "cell_type": "code",
   "execution_count": 2,
   "id": "58e0f3ff",
   "metadata": {},
   "outputs": [],
   "source": [
    "from logging import getLogger\n",
    "import os\n",
    "import json\n",
    "import pandas as pd\n",
    "import time, datetime\n",
    "\n",
    "from recbole.model.general_recommender.lightgcn import LightGCN\n",
    "from recbole.model.general_recommender.ease import EASE\n",
    "\n",
    "from recbole.config import Config\n",
    "from recbole.data import create_dataset, data_preparation\n",
    "from recbole.utils import init_logger, get_trainer, init_seed, set_color\n",
    "\n",
    "from recbole.config import Config\n",
    "from recbole.data import create_dataset\n",
    "\n",
    "from sklearn.metrics import accuracy_score, roc_auc_score\n",
    "\n",
    "import torch"
   ]
  },
  {
   "cell_type": "markdown",
   "id": "b688038e",
   "metadata": {},
   "source": [
    "### 데이터 로드"
   ]
  },
  {
   "cell_type": "code",
   "execution_count": 3,
   "id": "85353632",
   "metadata": {},
   "outputs": [],
   "source": [
    "train_data = pd.read_csv('/opt/ml/input/data/train_data.csv')\n",
    "test_data  = pd.read_csv('/opt/ml/input/data/test_data.csv')"
   ]
  },
  {
   "cell_type": "markdown",
   "id": "283c5ad5",
   "metadata": {},
   "source": [
    "데이터 통합\n",
    "- GNN에서 학습되지 않은 노드에 대해 계산 할 수 없음\n",
    "- 기존 데이터셋에서 테스트 데이터셋의 사용자는 학습 데이터셋에 포함되어 있지 않음\n",
    "- 이에 따라 모든 데이터를 통합하여 사용하도록 함"
   ]
  },
  {
   "cell_type": "code",
   "execution_count": 4,
   "id": "306834c3",
   "metadata": {},
   "outputs": [],
   "source": [
    "data = pd.concat([train_data, test_data])"
   ]
  },
  {
   "cell_type": "markdown",
   "id": "e36a8535",
   "metadata": {},
   "source": [
    "### 데이터 구성\n",
    "\n",
    "- 데이터는 학습 데이터셋과 테스트 데이터셋으로 구분되어 있다.\n",
    "- 각 데이터에는 userID, assessmentItemID, testId, answerCode, Timestamp, KnowledgeTag의 정보가 있다.\n",
    "- 여기서 assessmentItemID는 문제의 고유 ID이며, answerCode는 사용자가 해당 문제의 정답을 맞췄는지 여부로, 맞췄으면 1, 틀렸으면 0으로 표기된다.\n",
    "- 기본적인 협업 필터링 적용을 위해 본 실습에서는 userID, assessmentItemID, answerCode만을 사용한다."
   ]
  },
  {
   "cell_type": "code",
   "execution_count": 5,
   "id": "c83fd2ba",
   "metadata": {},
   "outputs": [
    {
     "name": "stdout",
     "output_type": "stream",
     "text": [
      "Train dataset\n"
     ]
    },
    {
     "data": {
      "text/html": [
       "<div>\n",
       "<style scoped>\n",
       "    .dataframe tbody tr th:only-of-type {\n",
       "        vertical-align: middle;\n",
       "    }\n",
       "\n",
       "    .dataframe tbody tr th {\n",
       "        vertical-align: top;\n",
       "    }\n",
       "\n",
       "    .dataframe thead th {\n",
       "        text-align: right;\n",
       "    }\n",
       "</style>\n",
       "<table border=\"1\" class=\"dataframe\">\n",
       "  <thead>\n",
       "    <tr style=\"text-align: right;\">\n",
       "      <th></th>\n",
       "      <th>userID</th>\n",
       "      <th>assessmentItemID</th>\n",
       "      <th>testId</th>\n",
       "      <th>answerCode</th>\n",
       "      <th>Timestamp</th>\n",
       "      <th>KnowledgeTag</th>\n",
       "    </tr>\n",
       "  </thead>\n",
       "  <tbody>\n",
       "    <tr>\n",
       "      <th>0</th>\n",
       "      <td>0</td>\n",
       "      <td>A060001001</td>\n",
       "      <td>A060000001</td>\n",
       "      <td>1</td>\n",
       "      <td>2020-03-24 00:17:11</td>\n",
       "      <td>7224</td>\n",
       "    </tr>\n",
       "    <tr>\n",
       "      <th>1</th>\n",
       "      <td>0</td>\n",
       "      <td>A060001002</td>\n",
       "      <td>A060000001</td>\n",
       "      <td>1</td>\n",
       "      <td>2020-03-24 00:17:14</td>\n",
       "      <td>7225</td>\n",
       "    </tr>\n",
       "    <tr>\n",
       "      <th>2</th>\n",
       "      <td>0</td>\n",
       "      <td>A060001003</td>\n",
       "      <td>A060000001</td>\n",
       "      <td>1</td>\n",
       "      <td>2020-03-24 00:17:22</td>\n",
       "      <td>7225</td>\n",
       "    </tr>\n",
       "    <tr>\n",
       "      <th>3</th>\n",
       "      <td>0</td>\n",
       "      <td>A060001004</td>\n",
       "      <td>A060000001</td>\n",
       "      <td>1</td>\n",
       "      <td>2020-03-24 00:17:29</td>\n",
       "      <td>7225</td>\n",
       "    </tr>\n",
       "    <tr>\n",
       "      <th>4</th>\n",
       "      <td>0</td>\n",
       "      <td>A060001005</td>\n",
       "      <td>A060000001</td>\n",
       "      <td>1</td>\n",
       "      <td>2020-03-24 00:17:36</td>\n",
       "      <td>7225</td>\n",
       "    </tr>\n",
       "  </tbody>\n",
       "</table>\n",
       "</div>"
      ],
      "text/plain": [
       "   userID assessmentItemID      testId  answerCode            Timestamp  \\\n",
       "0       0       A060001001  A060000001           1  2020-03-24 00:17:11   \n",
       "1       0       A060001002  A060000001           1  2020-03-24 00:17:14   \n",
       "2       0       A060001003  A060000001           1  2020-03-24 00:17:22   \n",
       "3       0       A060001004  A060000001           1  2020-03-24 00:17:29   \n",
       "4       0       A060001005  A060000001           1  2020-03-24 00:17:36   \n",
       "\n",
       "   KnowledgeTag  \n",
       "0          7224  \n",
       "1          7225  \n",
       "2          7225  \n",
       "3          7225  \n",
       "4          7225  "
      ]
     },
     "metadata": {},
     "output_type": "display_data"
    },
    {
     "name": "stdout",
     "output_type": "stream",
     "text": [
      " Num. Users    : 7442\n",
      " Max. UserID   : 7441\n",
      " Num. Items    : 9454\n",
      " Num. Records  : 2266586\n"
     ]
    }
   ],
   "source": [
    "userid, itemid = list(set(data.userID)), list(set(data.assessmentItemID))\n",
    "n_user, n_item = len(userid), len(itemid)\n",
    "\n",
    "print(f\"Train dataset\")\n",
    "display(data.head(5))\n",
    "print(f\" Num. Users    : {n_user}\")\n",
    "print(f\" Max. UserID   : {max(userid)}\")\n",
    "print(f\" Num. Items    : {n_item}\")\n",
    "print(f\" Num. Records  : {len(train_data)}\")"
   ]
  },
  {
   "cell_type": "markdown",
   "id": "0a3fb752",
   "metadata": {},
   "source": [
    "### 데이터 전처리"
   ]
  },
  {
   "cell_type": "markdown",
   "id": "1bca4154",
   "metadata": {},
   "source": [
    "중복 레코드 제거\n",
    " - RS 모델에서는 시간에 따른 변화를 고려하지 않기 때문에 최종 성적만을 바탕으로 평가한다.\n",
    " - 사용자+문제항목을 Unique key로 하여 최종 레코드만을 보존하고 나머지 제거한다."
   ]
  },
  {
   "cell_type": "code",
   "execution_count": 6,
   "id": "b8181d58",
   "metadata": {},
   "outputs": [],
   "source": [
    "data.drop_duplicates(subset = [\"userID\", \"assessmentItemID\"],\n",
    "                     keep = \"last\", inplace = True)"
   ]
  },
  {
   "cell_type": "markdown",
   "id": "a5dc7776",
   "metadata": {},
   "source": [
    "평가 항목 제거\n",
    "- 테스트 데이터셋에서 answerCode가 -1인 항목은 최종 평가시 사용되는 항목으로 여기에선 사용할 수 없다.\n",
    "- 아래 결과에서와 같이 User, Item 수는 변화 없이 총 레코드 수만 변한다."
   ]
  },
  {
   "cell_type": "code",
   "execution_count": 7,
   "id": "43a792fb",
   "metadata": {},
   "outputs": [
    {
     "data": {
      "text/html": [
       "<div>\n",
       "<style scoped>\n",
       "    .dataframe tbody tr th:only-of-type {\n",
       "        vertical-align: middle;\n",
       "    }\n",
       "\n",
       "    .dataframe tbody tr th {\n",
       "        vertical-align: top;\n",
       "    }\n",
       "\n",
       "    .dataframe thead th {\n",
       "        text-align: right;\n",
       "    }\n",
       "</style>\n",
       "<table border=\"1\" class=\"dataframe\">\n",
       "  <thead>\n",
       "    <tr style=\"text-align: right;\">\n",
       "      <th></th>\n",
       "      <th>userID</th>\n",
       "      <th>assessmentItemID</th>\n",
       "      <th>testId</th>\n",
       "      <th>answerCode</th>\n",
       "      <th>Timestamp</th>\n",
       "      <th>KnowledgeTag</th>\n",
       "    </tr>\n",
       "  </thead>\n",
       "  <tbody>\n",
       "    <tr>\n",
       "      <th>260108</th>\n",
       "      <td>7439</td>\n",
       "      <td>A040197006</td>\n",
       "      <td>A040000197</td>\n",
       "      <td>1</td>\n",
       "      <td>2020-08-21 07:39:45</td>\n",
       "      <td>2132</td>\n",
       "    </tr>\n",
       "    <tr>\n",
       "      <th>260109</th>\n",
       "      <td>7439</td>\n",
       "      <td>A040130001</td>\n",
       "      <td>A040000130</td>\n",
       "      <td>0</td>\n",
       "      <td>2020-10-14 23:07:23</td>\n",
       "      <td>8832</td>\n",
       "    </tr>\n",
       "    <tr>\n",
       "      <th>260110</th>\n",
       "      <td>7439</td>\n",
       "      <td>A040130002</td>\n",
       "      <td>A040000130</td>\n",
       "      <td>1</td>\n",
       "      <td>2020-10-14 23:07:41</td>\n",
       "      <td>8832</td>\n",
       "    </tr>\n",
       "    <tr>\n",
       "      <th>260111</th>\n",
       "      <td>7439</td>\n",
       "      <td>A040130003</td>\n",
       "      <td>A040000130</td>\n",
       "      <td>1</td>\n",
       "      <td>2020-10-14 23:08:02</td>\n",
       "      <td>8244</td>\n",
       "    </tr>\n",
       "    <tr>\n",
       "      <th>260112</th>\n",
       "      <td>7439</td>\n",
       "      <td>A040130004</td>\n",
       "      <td>A040000130</td>\n",
       "      <td>1</td>\n",
       "      <td>2020-10-14 23:09:31</td>\n",
       "      <td>8244</td>\n",
       "    </tr>\n",
       "  </tbody>\n",
       "</table>\n",
       "</div>"
      ],
      "text/plain": [
       "        userID assessmentItemID      testId  answerCode            Timestamp  \\\n",
       "260108    7439       A040197006  A040000197           1  2020-08-21 07:39:45   \n",
       "260109    7439       A040130001  A040000130           0  2020-10-14 23:07:23   \n",
       "260110    7439       A040130002  A040000130           1  2020-10-14 23:07:41   \n",
       "260111    7439       A040130003  A040000130           1  2020-10-14 23:08:02   \n",
       "260112    7439       A040130004  A040000130           1  2020-10-14 23:09:31   \n",
       "\n",
       "        KnowledgeTag  \n",
       "260108          2132  \n",
       "260109          8832  \n",
       "260110          8832  \n",
       "260111          8244  \n",
       "260112          8244  "
      ]
     },
     "metadata": {},
     "output_type": "display_data"
    },
    {
     "name": "stdout",
     "output_type": "stream",
     "text": [
      " Num. Users    : 7442->7442\n",
      " Max. UserID   : 7441\n",
      " Num. Items    : 9454->9454\n",
      " Num. Records  : 2476706->2475962\n"
     ]
    }
   ],
   "source": [
    "data_old = data.copy()\n",
    "n_user_old, n_item_old = n_user, n_item\n",
    "\n",
    "data  = data[data.answerCode>=0].copy()\n",
    "\n",
    "userid, itemid = list(set(data.userID)), list(set(data.assessmentItemID))\n",
    "n_user, n_item = len(userid), len(itemid)\n",
    "\n",
    "display(data.tail(5))\n",
    "print(f\" Num. Users    : {n_user}->{n_user}\")\n",
    "print(f\" Max. UserID   : {max(userid)}\")\n",
    "print(f\" Num. Items    : {n_item}->{n_item}\")\n",
    "print(f\" Num. Records  : {len(data_old)}->{len(data)}\")"
   ]
  },
  {
   "cell_type": "markdown",
   "id": "168bbb34",
   "metadata": {},
   "source": [
    "평가 항목 신규 생성\n",
    "- 남은 테스트 항목 중, 각 사용자별 최종 레코드를 새로운 평가 항목으로 정한다."
   ]
  },
  {
   "cell_type": "code",
   "execution_count": 8,
   "id": "797ee154",
   "metadata": {},
   "outputs": [
    {
     "data": {
      "text/html": [
       "<div>\n",
       "<style scoped>\n",
       "    .dataframe tbody tr th:only-of-type {\n",
       "        vertical-align: middle;\n",
       "    }\n",
       "\n",
       "    .dataframe tbody tr th {\n",
       "        vertical-align: top;\n",
       "    }\n",
       "\n",
       "    .dataframe thead th {\n",
       "        text-align: right;\n",
       "    }\n",
       "</style>\n",
       "<table border=\"1\" class=\"dataframe\">\n",
       "  <thead>\n",
       "    <tr style=\"text-align: right;\">\n",
       "      <th></th>\n",
       "      <th>userID</th>\n",
       "      <th>assessmentItemID</th>\n",
       "      <th>testId</th>\n",
       "      <th>answerCode</th>\n",
       "      <th>Timestamp</th>\n",
       "      <th>KnowledgeTag</th>\n",
       "    </tr>\n",
       "  </thead>\n",
       "  <tbody>\n",
       "    <tr>\n",
       "      <th>744</th>\n",
       "      <td>0</td>\n",
       "      <td>A080129006</td>\n",
       "      <td>A080000129</td>\n",
       "      <td>0</td>\n",
       "      <td>2020-12-23 03:40:19</td>\n",
       "      <td>2725</td>\n",
       "    </tr>\n",
       "    <tr>\n",
       "      <th>1677</th>\n",
       "      <td>1</td>\n",
       "      <td>A090074006</td>\n",
       "      <td>A090000074</td>\n",
       "      <td>1</td>\n",
       "      <td>2020-11-13 02:47:20</td>\n",
       "      <td>2648</td>\n",
       "    </tr>\n",
       "    <tr>\n",
       "      <th>1953</th>\n",
       "      <td>2</td>\n",
       "      <td>A050139007</td>\n",
       "      <td>A050000139</td>\n",
       "      <td>0</td>\n",
       "      <td>2020-10-20 11:32:26</td>\n",
       "      <td>428</td>\n",
       "    </tr>\n",
       "    <tr>\n",
       "      <th>2786</th>\n",
       "      <td>5</td>\n",
       "      <td>A080138007</td>\n",
       "      <td>A080000138</td>\n",
       "      <td>1</td>\n",
       "      <td>2020-12-11 22:48:28</td>\n",
       "      <td>8431</td>\n",
       "    </tr>\n",
       "    <tr>\n",
       "      <th>3707</th>\n",
       "      <td>6</td>\n",
       "      <td>A030145005</td>\n",
       "      <td>A030000145</td>\n",
       "      <td>0</td>\n",
       "      <td>2020-10-26 09:52:14</td>\n",
       "      <td>7817</td>\n",
       "    </tr>\n",
       "  </tbody>\n",
       "</table>\n",
       "</div>"
      ],
      "text/plain": [
       "      userID assessmentItemID      testId  answerCode            Timestamp  \\\n",
       "744        0       A080129006  A080000129           0  2020-12-23 03:40:19   \n",
       "1677       1       A090074006  A090000074           1  2020-11-13 02:47:20   \n",
       "1953       2       A050139007  A050000139           0  2020-10-20 11:32:26   \n",
       "2786       5       A080138007  A080000138           1  2020-12-11 22:48:28   \n",
       "3707       6       A030145005  A030000145           0  2020-10-26 09:52:14   \n",
       "\n",
       "      KnowledgeTag  \n",
       "744           2725  \n",
       "1677          2648  \n",
       "1953           428  \n",
       "2786          8431  \n",
       "3707          7817  "
      ]
     },
     "metadata": {},
     "output_type": "display_data"
    },
    {
     "data": {
      "text/html": [
       "<div>\n",
       "<style scoped>\n",
       "    .dataframe tbody tr th:only-of-type {\n",
       "        vertical-align: middle;\n",
       "    }\n",
       "\n",
       "    .dataframe tbody tr th {\n",
       "        vertical-align: top;\n",
       "    }\n",
       "\n",
       "    .dataframe thead th {\n",
       "        text-align: right;\n",
       "    }\n",
       "</style>\n",
       "<table border=\"1\" class=\"dataframe\">\n",
       "  <thead>\n",
       "    <tr style=\"text-align: right;\">\n",
       "      <th></th>\n",
       "      <th>userID</th>\n",
       "      <th>assessmentItemID</th>\n",
       "      <th>testId</th>\n",
       "      <th>answerCode</th>\n",
       "      <th>Timestamp</th>\n",
       "      <th>KnowledgeTag</th>\n",
       "    </tr>\n",
       "  </thead>\n",
       "  <tbody>\n",
       "    <tr>\n",
       "      <th>260051</th>\n",
       "      <td>7395</td>\n",
       "      <td>A040122004</td>\n",
       "      <td>A040000122</td>\n",
       "      <td>0</td>\n",
       "      <td>2020-09-08 02:05:18</td>\n",
       "      <td>2102</td>\n",
       "    </tr>\n",
       "    <tr>\n",
       "      <th>260066</th>\n",
       "      <td>7404</td>\n",
       "      <td>A030111004</td>\n",
       "      <td>A030000111</td>\n",
       "      <td>1</td>\n",
       "      <td>2020-10-13 09:47:31</td>\n",
       "      <td>7636</td>\n",
       "    </tr>\n",
       "    <tr>\n",
       "      <th>260081</th>\n",
       "      <td>7416</td>\n",
       "      <td>A050193003</td>\n",
       "      <td>A050000193</td>\n",
       "      <td>0</td>\n",
       "      <td>2020-10-04 02:44:17</td>\n",
       "      <td>10402</td>\n",
       "    </tr>\n",
       "    <tr>\n",
       "      <th>260096</th>\n",
       "      <td>7417</td>\n",
       "      <td>A050193003</td>\n",
       "      <td>A050000193</td>\n",
       "      <td>0</td>\n",
       "      <td>2020-09-06 13:08:54</td>\n",
       "      <td>10402</td>\n",
       "    </tr>\n",
       "    <tr>\n",
       "      <th>260112</th>\n",
       "      <td>7439</td>\n",
       "      <td>A040130004</td>\n",
       "      <td>A040000130</td>\n",
       "      <td>1</td>\n",
       "      <td>2020-10-14 23:09:31</td>\n",
       "      <td>8244</td>\n",
       "    </tr>\n",
       "  </tbody>\n",
       "</table>\n",
       "</div>"
      ],
      "text/plain": [
       "        userID assessmentItemID      testId  answerCode            Timestamp  \\\n",
       "260051    7395       A040122004  A040000122           0  2020-09-08 02:05:18   \n",
       "260066    7404       A030111004  A030000111           1  2020-10-13 09:47:31   \n",
       "260081    7416       A050193003  A050000193           0  2020-10-04 02:44:17   \n",
       "260096    7417       A050193003  A050000193           0  2020-09-06 13:08:54   \n",
       "260112    7439       A040130004  A040000130           1  2020-10-14 23:09:31   \n",
       "\n",
       "        KnowledgeTag  \n",
       "260051          2102  \n",
       "260066          7636  \n",
       "260081         10402  \n",
       "260096         10402  \n",
       "260112          8244  "
      ]
     },
     "metadata": {},
     "output_type": "display_data"
    },
    {
     "name": "stdout",
     "output_type": "stream",
     "text": [
      " Num. Records  : 7442\n"
     ]
    }
   ],
   "source": [
    "eval_data = data.copy()\n",
    "eval_data.drop_duplicates(subset = [\"userID\"],\n",
    "                     keep = \"last\", inplace = True)\n",
    "display(eval_data.head(5))\n",
    "display(eval_data.tail(5))\n",
    "print(f\" Num. Records  : {len(eval_data)}\")"
   ]
  },
  {
   "cell_type": "markdown",
   "id": "104d2350",
   "metadata": {},
   "source": [
    "평가 항목을 테스트 항목에서 제거한다."
   ]
  },
  {
   "cell_type": "code",
   "execution_count": 9,
   "id": "7e7a8bac",
   "metadata": {},
   "outputs": [
    {
     "data": {
      "text/html": [
       "<div>\n",
       "<style scoped>\n",
       "    .dataframe tbody tr th:only-of-type {\n",
       "        vertical-align: middle;\n",
       "    }\n",
       "\n",
       "    .dataframe tbody tr th {\n",
       "        vertical-align: top;\n",
       "    }\n",
       "\n",
       "    .dataframe thead th {\n",
       "        text-align: right;\n",
       "    }\n",
       "</style>\n",
       "<table border=\"1\" class=\"dataframe\">\n",
       "  <thead>\n",
       "    <tr style=\"text-align: right;\">\n",
       "      <th></th>\n",
       "      <th>userID</th>\n",
       "      <th>assessmentItemID</th>\n",
       "      <th>testId</th>\n",
       "      <th>answerCode</th>\n",
       "      <th>Timestamp</th>\n",
       "      <th>KnowledgeTag</th>\n",
       "    </tr>\n",
       "  </thead>\n",
       "  <tbody>\n",
       "    <tr>\n",
       "      <th>260107</th>\n",
       "      <td>7439</td>\n",
       "      <td>A040197005</td>\n",
       "      <td>A040000197</td>\n",
       "      <td>0</td>\n",
       "      <td>2020-08-21 07:39:40</td>\n",
       "      <td>2132</td>\n",
       "    </tr>\n",
       "    <tr>\n",
       "      <th>260108</th>\n",
       "      <td>7439</td>\n",
       "      <td>A040197006</td>\n",
       "      <td>A040000197</td>\n",
       "      <td>1</td>\n",
       "      <td>2020-08-21 07:39:45</td>\n",
       "      <td>2132</td>\n",
       "    </tr>\n",
       "    <tr>\n",
       "      <th>260109</th>\n",
       "      <td>7439</td>\n",
       "      <td>A040130001</td>\n",
       "      <td>A040000130</td>\n",
       "      <td>0</td>\n",
       "      <td>2020-10-14 23:07:23</td>\n",
       "      <td>8832</td>\n",
       "    </tr>\n",
       "    <tr>\n",
       "      <th>260110</th>\n",
       "      <td>7439</td>\n",
       "      <td>A040130002</td>\n",
       "      <td>A040000130</td>\n",
       "      <td>1</td>\n",
       "      <td>2020-10-14 23:07:41</td>\n",
       "      <td>8832</td>\n",
       "    </tr>\n",
       "    <tr>\n",
       "      <th>260111</th>\n",
       "      <td>7439</td>\n",
       "      <td>A040130003</td>\n",
       "      <td>A040000130</td>\n",
       "      <td>1</td>\n",
       "      <td>2020-10-14 23:08:02</td>\n",
       "      <td>8244</td>\n",
       "    </tr>\n",
       "  </tbody>\n",
       "</table>\n",
       "</div>"
      ],
      "text/plain": [
       "        userID assessmentItemID      testId  answerCode            Timestamp  \\\n",
       "260107    7439       A040197005  A040000197           0  2020-08-21 07:39:40   \n",
       "260108    7439       A040197006  A040000197           1  2020-08-21 07:39:45   \n",
       "260109    7439       A040130001  A040000130           0  2020-10-14 23:07:23   \n",
       "260110    7439       A040130002  A040000130           1  2020-10-14 23:07:41   \n",
       "260111    7439       A040130003  A040000130           1  2020-10-14 23:08:02   \n",
       "\n",
       "        KnowledgeTag  \n",
       "260107          2132  \n",
       "260108          2132  \n",
       "260109          8832  \n",
       "260110          8832  \n",
       "260111          8244  "
      ]
     },
     "metadata": {},
     "output_type": "display_data"
    },
    {
     "name": "stdout",
     "output_type": "stream",
     "text": [
      " Num. Records  : 2467499\n"
     ]
    }
   ],
   "source": [
    "data.drop(index=eval_data.index, inplace=True, errors='ignore')\n",
    "display(data.tail(5))\n",
    "print(f\" Num. Records  : {len(data)}\")"
   ]
  },
  {
   "cell_type": "markdown",
   "id": "e77aa92f",
   "metadata": {},
   "source": [
    "### 데이터 파일 변환\n",
    "- 기존 데이터 파일을 recbole 데이터 파일로 변환"
   ]
  },
  {
   "cell_type": "markdown",
   "id": "48955e38",
   "metadata": {},
   "source": [
    "사용자, 아이템 ID를 index로 변환"
   ]
  },
  {
   "cell_type": "code",
   "execution_count": 10,
   "id": "da1b5895",
   "metadata": {},
   "outputs": [],
   "source": [
    "userid, itemid = sorted(list(set(data.userID))), sorted(list(set(data.assessmentItemID)))\n",
    "n_user, n_item = len(userid), len(itemid)\n",
    "\n",
    "userid_2_index = {v:i        for i,v in enumerate(userid)}\n",
    "itemid_2_index = {v:i+n_user for i,v in enumerate(itemid)}\n",
    "id_2_index = dict(userid_2_index, **itemid_2_index)"
   ]
  },
  {
   "cell_type": "markdown",
   "id": "d489b763",
   "metadata": {},
   "source": [
    "데이터 설정 파일 내용 정의"
   ]
  },
  {
   "cell_type": "code",
   "execution_count": 11,
   "id": "10c30c8d",
   "metadata": {},
   "outputs": [],
   "source": [
    "yamldata = \"\"\"\n",
    "USER_ID_FIELD: user_id\n",
    "ITEM_ID_FIELD: item_id\n",
    "RATING_FIELD: rating\n",
    "TIME_FIELD: timestamp\n",
    "\n",
    "load_col:\n",
    "    inter: [user_id, item_id, rating, timestamp]\n",
    "\n",
    "user_inter_num_interval: \"[0,inf)\"\n",
    "item_inter_num_interval: \"[0,inf)\"\n",
    "val_interval:\n",
    "    rating: \"[0,1]\"\n",
    "    timestamp: \"[97830000, inf)\"\n",
    "\"\"\""
   ]
  },
  {
   "cell_type": "markdown",
   "id": "abda220f",
   "metadata": {},
   "source": [
    "학습데이터 저장"
   ]
  },
  {
   "cell_type": "code",
   "execution_count": 12,
   "id": "ba936814",
   "metadata": {},
   "outputs": [
    {
     "name": "stdout",
     "output_type": "stream",
     "text": [
      "Processing Start\n",
      "Processing Complete\n",
      "Dump Start\n",
      "Dump Complete\n"
     ]
    }
   ],
   "source": [
    "outpath = f\"dataset/train_data\"\n",
    "outfile = f\"dataset/train_data/train_data.inter\"\n",
    "yamlfile = f\"train_data.yaml\"\n",
    "\n",
    "os.makedirs(outpath, exist_ok=True)\n",
    "\n",
    "print(\"Processing Start\")\n",
    "inter_table = []\n",
    "for user, item, acode, tstamp in zip(data.userID, data.assessmentItemID, data.answerCode, data.Timestamp):\n",
    "    uid, iid = id_2_index[user], id_2_index[item]\n",
    "    tval = int(time.mktime(datetime.datetime.strptime(tstamp, \"%Y-%m-%d %H:%M:%S\").timetuple()))\n",
    "    inter_table.append( [uid, iid, max(acode,0), tval] )\n",
    "\n",
    "print(\"Processing Complete\")\n",
    "\n",
    "print(\"Dump Start\")\n",
    "# 데이터 설정 파일 저장\n",
    "with open(yamlfile, \"w\") as f:\n",
    "    f.write(yamldata) \n",
    "\n",
    "# 데이터 파일 저장\n",
    "with open(outfile, \"w\") as f:\n",
    "    # write header\n",
    "    f.write(\"user_id:token\\titem_id:token\\trating:float\\ttimestamp:float\\n\")\n",
    "    for row in inter_table:\n",
    "        f.write(\"\\t\".join([str(x) for x in row])+\"\\n\")\n",
    "\n",
    "print(\"Dump Complete\")"
   ]
  },
  {
   "cell_type": "markdown",
   "id": "6b704c7c",
   "metadata": {},
   "source": [
    "평가 데이터 저장"
   ]
  },
  {
   "cell_type": "code",
   "execution_count": 13,
   "id": "53345c44",
   "metadata": {},
   "outputs": [
    {
     "name": "stdout",
     "output_type": "stream",
     "text": [
      "Processing Start\n",
      "Processing Complete\n",
      "Dump Start\n",
      "Dump Complete\n"
     ]
    }
   ],
   "source": [
    "outpath = f\"dataset/test_data\"\n",
    "outfile = f\"dataset/test_data/test_data.inter\"\n",
    "yamlfile = f\"test_data.yaml\"\n",
    "\n",
    "os.makedirs(outpath, exist_ok=True)\n",
    "\n",
    "print(\"Processing Start\")\n",
    "inter_table = []\n",
    "for user, item, acode, tstamp in zip(eval_data.userID, eval_data.assessmentItemID, eval_data.answerCode, eval_data.Timestamp):\n",
    "    uid, iid = id_2_index[user], id_2_index[item]\n",
    "    tval = int(time.mktime(datetime.datetime.strptime(tstamp, \"%Y-%m-%d %H:%M:%S\").timetuple()))\n",
    "    inter_table.append( [uid, iid, max(acode,0), tval] )\n",
    "\n",
    "print(\"Processing Complete\")\n",
    "\n",
    "print(\"Dump Start\")\n",
    "# 데이터 설정 파일 저장\n",
    "with open(yamlfile, \"w\") as f:\n",
    "    f.write(yamldata) \n",
    "\n",
    "# 데이터 파일 저장\n",
    "with open(outfile, \"w\") as f:\n",
    "    # write header\n",
    "    f.write(\"user_id:token\\titem_id:token\\trating:float\\ttimestamp:float\\n\")\n",
    "    for row in inter_table:\n",
    "        f.write(\"\\t\".join([str(x) for x in row])+\"\\n\")\n",
    "\n",
    "print(\"Dump Complete\")"
   ]
  },
  {
   "cell_type": "markdown",
   "id": "034ae9cb",
   "metadata": {},
   "source": [
    "## 🎯 EASE 학습"
   ]
  },
  {
   "cell_type": "markdown",
   "id": "4a486f71",
   "metadata": {},
   "source": [
    "### 로거 생성"
   ]
  },
  {
   "cell_type": "code",
   "execution_count": 14,
   "id": "db7fc24f",
   "metadata": {},
   "outputs": [],
   "source": [
    "logger = getLogger()"
   ]
  },
  {
   "cell_type": "markdown",
   "id": "f8070421",
   "metadata": {},
   "source": [
    "### 설정 인스턴스 생성"
   ]
  },
  {
   "cell_type": "code",
   "execution_count": 15,
   "id": "234249f6",
   "metadata": {},
   "outputs": [
    {
     "name": "stderr",
     "output_type": "stream",
     "text": [
      "13 May 05:14    INFO  \n",
      "General Hyper Parameters:\n",
      "gpu_id = 0\n",
      "use_gpu = True\n",
      "seed = 2020\n",
      "state = INFO\n",
      "reproducibility = True\n",
      "data_path = dataset/train_data\n",
      "checkpoint_dir = saved\n",
      "show_progress = False\n",
      "save_dataset = False\n",
      "dataset_save_path = None\n",
      "save_dataloaders = False\n",
      "dataloaders_save_path = None\n",
      "log_wandb = False\n",
      "\n",
      "Training Hyper Parameters:\n",
      "epochs = 1\n",
      "train_batch_size = 2048\n",
      "learner = adam\n",
      "learning_rate = 0.001\n",
      "neg_sampling = {'uniform': 1}\n",
      "eval_step = 1\n",
      "stopping_step = 10\n",
      "clip_grad_norm = None\n",
      "weight_decay = 0.0\n",
      "loss_decimal_place = 4\n",
      "\n",
      "Evaluation Hyper Parameters:\n",
      "eval_args = {'split': {'RS': [0.8, 0.1, 0.1]}, 'group_by': 'user', 'order': 'RO', 'mode': 'full'}\n",
      "repeatable = False\n",
      "metrics = ['Recall', 'MRR', 'NDCG', 'Hit', 'Precision']\n",
      "topk = [10]\n",
      "valid_metric = MRR@10\n",
      "valid_metric_bigger = True\n",
      "eval_batch_size = 4096\n",
      "metric_decimal_place = 4\n",
      "\n",
      "Dataset Hyper Parameters:\n",
      "field_separator = \t\n",
      "seq_separator =  \n",
      "USER_ID_FIELD = user_id\n",
      "ITEM_ID_FIELD = item_id\n",
      "RATING_FIELD = rating\n",
      "TIME_FIELD = timestamp\n",
      "seq_len = None\n",
      "LABEL_FIELD = label\n",
      "threshold = None\n",
      "NEG_PREFIX = neg_\n",
      "load_col = {'inter': ['user_id', 'item_id', 'rating', 'timestamp']}\n",
      "unload_col = None\n",
      "unused_col = None\n",
      "additional_feat_suffix = None\n",
      "rm_dup_inter = None\n",
      "val_interval = {'rating': '[0,1]', 'timestamp': '[97830000, inf)'}\n",
      "filter_inter_by_user_or_item = True\n",
      "user_inter_num_interval = [0,inf)\n",
      "item_inter_num_interval = [0,inf)\n",
      "alias_of_user_id = None\n",
      "alias_of_item_id = None\n",
      "alias_of_entity_id = None\n",
      "alias_of_relation_id = None\n",
      "preload_weight = None\n",
      "normalize_field = None\n",
      "normalize_all = None\n",
      "ITEM_LIST_LENGTH_FIELD = item_length\n",
      "LIST_SUFFIX = _list\n",
      "MAX_ITEM_LIST_LENGTH = 50\n",
      "POSITION_FIELD = position_id\n",
      "HEAD_ENTITY_ID_FIELD = head_id\n",
      "TAIL_ENTITY_ID_FIELD = tail_id\n",
      "RELATION_ID_FIELD = relation_id\n",
      "ENTITY_ID_FIELD = entity_id\n",
      "benchmark_filename = None\n",
      "\n",
      "Other Hyper Parameters: \n",
      "wandb_project = recbole\n",
      "require_pow = False\n",
      "reg_weight = 250.0\n",
      "MODEL_TYPE = ModelType.TRADITIONAL\n",
      "MODEL_INPUT_TYPE = InputType.POINTWISE\n",
      "eval_type = EvaluatorType.RANKING\n",
      "device = cuda\n",
      "train_neg_sample_args = {'strategy': 'by', 'by': 1, 'distribution': 'uniform', 'dynamic': 'none'}\n",
      "eval_neg_sample_args = {'strategy': 'full', 'distribution': 'uniform'}\n",
      "\n",
      "\n"
     ]
    }
   ],
   "source": [
    "# configurations initialization\n",
    "config = Config(model='EASE', dataset=\"train_data\", config_file_list=[f'train_data.yaml'])\n",
    "config['epochs'] = 1\n",
    "config['show_progress'] = False\n",
    "config['device'] = \"cuda\" if torch.cuda.is_available() else \"cpu\"\n",
    "init_seed(config['seed'], config['reproducibility'])\n",
    "# logger initialization\n",
    "init_logger(config)\n",
    "\n",
    "logger.info(config)"
   ]
  },
  {
   "cell_type": "markdown",
   "id": "bcc0c436",
   "metadata": {},
   "source": [
    "### 데이터 로드"
   ]
  },
  {
   "cell_type": "code",
   "execution_count": 16,
   "id": "d219c5bb",
   "metadata": {},
   "outputs": [
    {
     "name": "stderr",
     "output_type": "stream",
     "text": [
      "13 May 05:14    INFO  train_data\n",
      "The number of users: 7443\n",
      "Average actions of users: 331.5639613007256\n",
      "The number of items: 9455\n",
      "Average actions of items: 261.00052887666595\n",
      "The number of inters: 2467499\n",
      "The sparsity of the dataset: 96.49371322882392%\n",
      "Remain Fields: ['user_id', 'item_id', 'rating', 'timestamp']\n",
      "13 May 05:15    INFO  [Training]: train_batch_size = [2048] negative sampling: [{'uniform': 1}]\n",
      "13 May 05:15    INFO  [Evaluation]: eval_batch_size = [4096] eval_args: [{'split': {'RS': [0.8, 0.1, 0.1]}, 'group_by': 'user', 'order': 'RO', 'mode': 'full'}]\n"
     ]
    }
   ],
   "source": [
    "# dataset filtering\n",
    "dataset = create_dataset(config)\n",
    "logger.info(dataset)\n",
    "\n",
    "# dataset splitting\n",
    "train_data, valid_data, test_data = data_preparation(config, dataset)"
   ]
  },
  {
   "cell_type": "markdown",
   "id": "1c454256",
   "metadata": {},
   "source": [
    "### 모델 인스턴스 생성"
   ]
  },
  {
   "cell_type": "code",
   "execution_count": 17,
   "id": "df1ddbc3",
   "metadata": {},
   "outputs": [
    {
     "name": "stderr",
     "output_type": "stream",
     "text": [
      "13 May 05:15    INFO  EASE()\n",
      "Trainable parameters: 1\n"
     ]
    }
   ],
   "source": [
    "# model loading and initialization\n",
    "init_seed(config['seed'], config['reproducibility'])\n",
    "model = EASE(config, train_data.dataset).to(config['device'])\n",
    "logger.info(model)"
   ]
  },
  {
   "cell_type": "markdown",
   "id": "9d463cbb",
   "metadata": {},
   "source": [
    "### 모델 학습"
   ]
  },
  {
   "cell_type": "code",
   "execution_count": 18,
   "id": "7c7972e5",
   "metadata": {},
   "outputs": [
    {
     "name": "stderr",
     "output_type": "stream",
     "text": [
      "13 May 05:15    INFO  epoch 0 training [time: 2.37s, train loss: 0.0000]\n",
      "13 May 05:15    INFO  epoch 0 evaluating [time: 26.77s, valid_score: 0.693700]\n",
      "13 May 05:15    INFO  valid result: \n",
      "recall@10 : 0.3823    mrr@10 : 0.6937    ndcg@10 : 0.5549    hit@10 : 0.9993    precision@10 : 0.4509\n",
      "13 May 05:16    INFO  Saving current: saved/EASE-May-13-2022_05-15-23.pth\n"
     ]
    }
   ],
   "source": [
    "# trainer loading and initialization\n",
    "trainer = get_trainer(config['MODEL_TYPE'], config['model'])(config, model)\n",
    "\n",
    "# model training\n",
    "best_valid_score, best_valid_result = trainer.fit(\n",
    "    train_data, valid_data, saved=True, show_progress=config['show_progress']\n",
    ")"
   ]
  },
  {
   "cell_type": "markdown",
   "id": "d5672f22",
   "metadata": {},
   "source": [
    "### 학습 결과 출력"
   ]
  },
  {
   "cell_type": "code",
   "execution_count": 19,
   "id": "b6452ec1",
   "metadata": {},
   "outputs": [
    {
     "name": "stderr",
     "output_type": "stream",
     "text": [
      "13 May 05:16    INFO  Loading model structure and parameters from saved/EASE-May-13-2022_05-15-23.pth\n",
      "13 May 05:16    INFO  best valid : OrderedDict([('recall@10', 0.3823), ('mrr@10', 0.6937), ('ndcg@10', 0.5549), ('hit@10', 0.9993), ('precision@10', 0.4509)])\n",
      "13 May 05:16    INFO  test result: OrderedDict([('recall@10', 0.527), ('mrr@10', 0.9798), ('ndcg@10', 0.9623), ('hit@10', 0.9997), ('precision@10', 0.8057)])\n"
     ]
    },
    {
     "name": "stdout",
     "output_type": "stream",
     "text": [
      "{\n",
      "    \"best_valid_score\": 0.6937,\n",
      "    \"valid_score_bigger\": true,\n",
      "    \"best_valid_result\": {\n",
      "        \"recall@10\": 0.3823,\n",
      "        \"mrr@10\": 0.6937,\n",
      "        \"ndcg@10\": 0.5549,\n",
      "        \"hit@10\": 0.9993,\n",
      "        \"precision@10\": 0.4509\n",
      "    },\n",
      "    \"test_result\": {\n",
      "        \"recall@10\": 0.527,\n",
      "        \"mrr@10\": 0.9798,\n",
      "        \"ndcg@10\": 0.9623,\n",
      "        \"hit@10\": 0.9997,\n",
      "        \"precision@10\": 0.8057\n",
      "    }\n",
      "}\n"
     ]
    }
   ],
   "source": [
    "# model evaluation\n",
    "test_result = trainer.evaluate(test_data, load_best_model=\"True\", show_progress=config['show_progress'])\n",
    "\n",
    "logger.info(set_color('best valid ', 'yellow') + f': {best_valid_result}')\n",
    "logger.info(set_color('test result', 'yellow') + f': {test_result}')\n",
    "\n",
    "result = {\n",
    "    'best_valid_score': best_valid_score,\n",
    "    'valid_score_bigger': config['valid_metric_bigger'],\n",
    "    'best_valid_result': best_valid_result,\n",
    "    'test_result': test_result\n",
    "}\n",
    "\n",
    "print(json.dumps(result, indent=4))"
   ]
  },
  {
   "cell_type": "markdown",
   "id": "b08e8b00",
   "metadata": {},
   "source": [
    "## 🎯 예측 및 평가"
   ]
  },
  {
   "cell_type": "markdown",
   "id": "babd4113",
   "metadata": {},
   "source": [
    "### 테스트 데이터 로드"
   ]
  },
  {
   "cell_type": "code",
   "execution_count": 20,
   "id": "0ca44cbb",
   "metadata": {},
   "outputs": [
    {
     "name": "stderr",
     "output_type": "stream",
     "text": [
      "13 May 05:16    INFO  test_data\n",
      "The number of users: 7443\n",
      "Average actions of users: 1.0\n",
      "The number of items: 1498\n",
      "Average actions of items: 4.97127588510354\n",
      "The number of inters: 7442\n",
      "The sparsity of the dataset: 99.93325329468806%\n",
      "Remain Fields: ['user_id', 'item_id', 'rating', 'timestamp']\n"
     ]
    }
   ],
   "source": [
    "# configurations initialization\n",
    "config = Config(model='EASE', dataset=\"test_data\", config_file_list=[f'test_data.yaml'])\n",
    "# config['epochs'] = 1\n",
    "init_seed(config['seed'], config['reproducibility'])\n",
    "# logger initialization\n",
    "init_logger(config)\n",
    "\n",
    "# dataset filtering\n",
    "test_dataset = create_dataset(config)\n",
    "logger.info(test_dataset)"
   ]
  },
  {
   "cell_type": "markdown",
   "id": "2d5efa36",
   "metadata": {},
   "source": [
    "### 테스트 예측 및 평가"
   ]
  },
  {
   "cell_type": "code",
   "execution_count": 21,
   "id": "6aa5f18a",
   "metadata": {},
   "outputs": [
    {
     "name": "stdout",
     "output_type": "stream",
     "text": [
      "Test data prediction\n",
      " - Accuracy = 51.30%\n",
      " - ROC-AUC  = 49.73%\n"
     ]
    }
   ],
   "source": [
    "# 성능 측정\n",
    "\n",
    "a_prob = model.predict(test_dataset).tolist()\n",
    "a_true = [val for val in test_dataset.inter_feat[\"rating\"]]\n",
    "a_pred = [round(v) for v in a_prob] \n",
    "\n",
    "print(\"Test data prediction\")\n",
    "print(f\" - Accuracy = {100*accuracy_score(a_true, a_pred):.2f}%\")\n",
    "print(f\" - ROC-AUC  = {100*roc_auc_score(a_true, a_prob):.2f}%\")\n"
   ]
  }
 ],
 "metadata": {
  "interpreter": {
   "hash": "d4d1e4263499bec80672ea0156c357c1ee493ec2b1c70f0acce89fc37c4a6abe"
  },
  "kernelspec": {
   "display_name": "Python 3.8.5 ('base')",
   "language": "python",
   "name": "python3"
  },
  "language_info": {
   "codemirror_mode": {
    "name": "ipython",
    "version": 3
   },
   "file_extension": ".py",
   "mimetype": "text/x-python",
   "name": "python",
   "nbconvert_exporter": "python",
   "pygments_lexer": "ipython3",
   "version": "3.8.5"
  }
 },
 "nbformat": 4,
 "nbformat_minor": 5
}

{
  "cells": [
    {
      "cell_type": "markdown",
      "metadata": {
        "id": "yt7sDAqHhfQp"
      },
      "source": [
        "# LGBM (Light Gradient Boosting)\n",
        "LGBM is a gradient boosting framework that uses tree based learning algorithms.<br>\n",
        "Light GBM can handle the large size od data and takes lower memory to run."
      ]
    },
    {
      "cell_type": "code",
      "execution_count": 25,
      "metadata": {},
      "outputs": [],
      "source": [
        "import pandas as pd\n",
        "import os\n",
        "import random"
      ]
    },
    {
      "cell_type": "markdown",
      "metadata": {
        "id": "QZlm5HSmhfQv"
      },
      "source": [
        "## 1. Load Data"
      ]
    },
    {
      "cell_type": "code",
      "execution_count": 26,
      "metadata": {},
      "outputs": [
        {
          "data": {
            "text/html": [
              "<div>\n",
              "<style scoped>\n",
              "    .dataframe tbody tr th:only-of-type {\n",
              "        vertical-align: middle;\n",
              "    }\n",
              "\n",
              "    .dataframe tbody tr th {\n",
              "        vertical-align: top;\n",
              "    }\n",
              "\n",
              "    .dataframe thead th {\n",
              "        text-align: right;\n",
              "    }\n",
              "</style>\n",
              "<table border=\"1\" class=\"dataframe\">\n",
              "  <thead>\n",
              "    <tr style=\"text-align: right;\">\n",
              "      <th></th>\n",
              "      <th>userID</th>\n",
              "      <th>assessmentItemID</th>\n",
              "      <th>testId</th>\n",
              "      <th>answerCode</th>\n",
              "      <th>Timestamp</th>\n",
              "      <th>KnowledgeTag</th>\n",
              "    </tr>\n",
              "  </thead>\n",
              "  <tbody>\n",
              "    <tr>\n",
              "      <th>0</th>\n",
              "      <td>0</td>\n",
              "      <td>A060001001</td>\n",
              "      <td>A060000001</td>\n",
              "      <td>1</td>\n",
              "      <td>2020-03-24 00:17:11</td>\n",
              "      <td>7224</td>\n",
              "    </tr>\n",
              "    <tr>\n",
              "      <th>1</th>\n",
              "      <td>0</td>\n",
              "      <td>A060001002</td>\n",
              "      <td>A060000001</td>\n",
              "      <td>1</td>\n",
              "      <td>2020-03-24 00:17:14</td>\n",
              "      <td>7225</td>\n",
              "    </tr>\n",
              "    <tr>\n",
              "      <th>2</th>\n",
              "      <td>0</td>\n",
              "      <td>A060001003</td>\n",
              "      <td>A060000001</td>\n",
              "      <td>1</td>\n",
              "      <td>2020-03-24 00:17:22</td>\n",
              "      <td>7225</td>\n",
              "    </tr>\n",
              "    <tr>\n",
              "      <th>3</th>\n",
              "      <td>0</td>\n",
              "      <td>A060001004</td>\n",
              "      <td>A060000001</td>\n",
              "      <td>1</td>\n",
              "      <td>2020-03-24 00:17:29</td>\n",
              "      <td>7225</td>\n",
              "    </tr>\n",
              "    <tr>\n",
              "      <th>4</th>\n",
              "      <td>0</td>\n",
              "      <td>A060001005</td>\n",
              "      <td>A060000001</td>\n",
              "      <td>1</td>\n",
              "      <td>2020-03-24 00:17:36</td>\n",
              "      <td>7225</td>\n",
              "    </tr>\n",
              "    <tr>\n",
              "      <th>...</th>\n",
              "      <td>...</td>\n",
              "      <td>...</td>\n",
              "      <td>...</td>\n",
              "      <td>...</td>\n",
              "      <td>...</td>\n",
              "      <td>...</td>\n",
              "    </tr>\n",
              "    <tr>\n",
              "      <th>2266581</th>\n",
              "      <td>7441</td>\n",
              "      <td>A030071005</td>\n",
              "      <td>A030000071</td>\n",
              "      <td>0</td>\n",
              "      <td>2020-06-05 06:50:21</td>\n",
              "      <td>438</td>\n",
              "    </tr>\n",
              "    <tr>\n",
              "      <th>2266582</th>\n",
              "      <td>7441</td>\n",
              "      <td>A040165001</td>\n",
              "      <td>A040000165</td>\n",
              "      <td>1</td>\n",
              "      <td>2020-08-21 01:06:39</td>\n",
              "      <td>8836</td>\n",
              "    </tr>\n",
              "    <tr>\n",
              "      <th>2266583</th>\n",
              "      <td>7441</td>\n",
              "      <td>A040165002</td>\n",
              "      <td>A040000165</td>\n",
              "      <td>1</td>\n",
              "      <td>2020-08-21 01:06:50</td>\n",
              "      <td>8836</td>\n",
              "    </tr>\n",
              "    <tr>\n",
              "      <th>2266584</th>\n",
              "      <td>7441</td>\n",
              "      <td>A040165003</td>\n",
              "      <td>A040000165</td>\n",
              "      <td>1</td>\n",
              "      <td>2020-08-21 01:07:36</td>\n",
              "      <td>8836</td>\n",
              "    </tr>\n",
              "    <tr>\n",
              "      <th>2266585</th>\n",
              "      <td>7441</td>\n",
              "      <td>A040165004</td>\n",
              "      <td>A040000165</td>\n",
              "      <td>1</td>\n",
              "      <td>2020-08-21 01:08:49</td>\n",
              "      <td>8836</td>\n",
              "    </tr>\n",
              "  </tbody>\n",
              "</table>\n",
              "<p>2266586 rows × 6 columns</p>\n",
              "</div>"
            ],
            "text/plain": [
              "         userID assessmentItemID      testId  answerCode            Timestamp  \\\n",
              "0             0       A060001001  A060000001           1  2020-03-24 00:17:11   \n",
              "1             0       A060001002  A060000001           1  2020-03-24 00:17:14   \n",
              "2             0       A060001003  A060000001           1  2020-03-24 00:17:22   \n",
              "3             0       A060001004  A060000001           1  2020-03-24 00:17:29   \n",
              "4             0       A060001005  A060000001           1  2020-03-24 00:17:36   \n",
              "...         ...              ...         ...         ...                  ...   \n",
              "2266581    7441       A030071005  A030000071           0  2020-06-05 06:50:21   \n",
              "2266582    7441       A040165001  A040000165           1  2020-08-21 01:06:39   \n",
              "2266583    7441       A040165002  A040000165           1  2020-08-21 01:06:50   \n",
              "2266584    7441       A040165003  A040000165           1  2020-08-21 01:07:36   \n",
              "2266585    7441       A040165004  A040000165           1  2020-08-21 01:08:49   \n",
              "\n",
              "         KnowledgeTag  \n",
              "0                7224  \n",
              "1                7225  \n",
              "2                7225  \n",
              "3                7225  \n",
              "4                7225  \n",
              "...               ...  \n",
              "2266581           438  \n",
              "2266582          8836  \n",
              "2266583          8836  \n",
              "2266584          8836  \n",
              "2266585          8836  \n",
              "\n",
              "[2266586 rows x 6 columns]"
            ]
          },
          "execution_count": 26,
          "metadata": {},
          "output_type": "execute_result"
        }
      ],
      "source": [
        "data_dir = '/opt/ml/input/data'\n",
        "csv_file_path = os.path.join(data_dir, 'train_data.csv')\n",
        "df = pd.read_csv(csv_file_path)\n",
        "df"
      ]
    },
    {
      "cell_type": "markdown",
      "metadata": {
        "id": "p_oCGAgEhfQw"
      },
      "source": [
        "## 2. Feature Engineering"
      ]
    },
    {
      "cell_type": "code",
      "execution_count": 27,
      "metadata": {
        "ExecuteTime": {
          "end_time": "2021-05-24T09:49:29.682739Z",
          "start_time": "2021-05-24T09:49:28.979Z"
        },
        "id": "URNLoukChfQx"
      },
      "outputs": [],
      "source": [
        "def feature_engineering(df):\n",
        "    \n",
        "    #유저별 시퀀스를 고려하기 위해 아래와 같이 정렬\n",
        "    df.sort_values(by=['userID','Timestamp'], inplace=True)\n",
        "    \n",
        "    #유저들의 문제 풀이수, 정답 수, 정답률을 시간순으로 누적해서 계산\n",
        "    df['user_correct_answer'] = df.groupby('userID')['answerCode'].transform(lambda x: x.cumsum().shift(1))  # SHIFT를 왜 사용했을까??? \n",
        "    df['user_total_answer'] = df.groupby('userID')['answerCode'].cumcount()\n",
        "    df['user_acc'] = df['user_correct_answer']/df['user_total_answer']\n",
        "\n",
        "    # testId와 KnowledgeTag의 전체 정답률은 한번에 계산\n",
        "    # 아래 데이터는 제출용 데이터셋에 대해서도 재사용\n",
        "    correct_t = df.groupby(['testId'])['answerCode'].agg(['mean', 'sum'])\n",
        "    correct_t.columns = [\"test_mean\", 'test_sum']\n",
        "    correct_k = df.groupby(['KnowledgeTag'])['answerCode'].agg(['mean', 'sum'])\n",
        "    correct_k.columns = [\"tag_mean\", 'tag_sum']\n",
        "\n",
        "    df = pd.merge(df, correct_t, on=['testId'], how=\"left\")\n",
        "    df = pd.merge(df, correct_k, on=['KnowledgeTag'], how=\"left\")\n",
        "    \n",
        "    return df"
      ]
    },
    {
      "cell_type": "code",
      "execution_count": 28,
      "metadata": {
        "ExecuteTime": {
          "end_time": "2021-05-24T09:49:29.683739Z",
          "start_time": "2021-05-24T09:49:28.981Z"
        },
        "id": "2vsUwksMhfQy",
        "scrolled": false
      },
      "outputs": [
        {
          "data": {
            "text/html": [
              "<div>\n",
              "<style scoped>\n",
              "    .dataframe tbody tr th:only-of-type {\n",
              "        vertical-align: middle;\n",
              "    }\n",
              "\n",
              "    .dataframe tbody tr th {\n",
              "        vertical-align: top;\n",
              "    }\n",
              "\n",
              "    .dataframe thead th {\n",
              "        text-align: right;\n",
              "    }\n",
              "</style>\n",
              "<table border=\"1\" class=\"dataframe\">\n",
              "  <thead>\n",
              "    <tr style=\"text-align: right;\">\n",
              "      <th></th>\n",
              "      <th>userID</th>\n",
              "      <th>assessmentItemID</th>\n",
              "      <th>testId</th>\n",
              "      <th>answerCode</th>\n",
              "      <th>Timestamp</th>\n",
              "      <th>KnowledgeTag</th>\n",
              "      <th>user_correct_answer</th>\n",
              "      <th>user_total_answer</th>\n",
              "      <th>user_acc</th>\n",
              "      <th>test_mean</th>\n",
              "      <th>test_sum</th>\n",
              "      <th>tag_mean</th>\n",
              "      <th>tag_sum</th>\n",
              "    </tr>\n",
              "  </thead>\n",
              "  <tbody>\n",
              "    <tr>\n",
              "      <th>0</th>\n",
              "      <td>0</td>\n",
              "      <td>A060001001</td>\n",
              "      <td>A060000001</td>\n",
              "      <td>1</td>\n",
              "      <td>2020-03-24 00:17:11</td>\n",
              "      <td>7224</td>\n",
              "      <td>NaN</td>\n",
              "      <td>0</td>\n",
              "      <td>NaN</td>\n",
              "      <td>0.947683</td>\n",
              "      <td>1268</td>\n",
              "      <td>0.955022</td>\n",
              "      <td>637</td>\n",
              "    </tr>\n",
              "    <tr>\n",
              "      <th>1</th>\n",
              "      <td>0</td>\n",
              "      <td>A060001002</td>\n",
              "      <td>A060000001</td>\n",
              "      <td>1</td>\n",
              "      <td>2020-03-24 00:17:14</td>\n",
              "      <td>7225</td>\n",
              "      <td>1.0</td>\n",
              "      <td>1</td>\n",
              "      <td>1.0</td>\n",
              "      <td>0.947683</td>\n",
              "      <td>1268</td>\n",
              "      <td>0.913187</td>\n",
              "      <td>3040</td>\n",
              "    </tr>\n",
              "    <tr>\n",
              "      <th>2</th>\n",
              "      <td>0</td>\n",
              "      <td>A060001003</td>\n",
              "      <td>A060000001</td>\n",
              "      <td>1</td>\n",
              "      <td>2020-03-24 00:17:22</td>\n",
              "      <td>7225</td>\n",
              "      <td>2.0</td>\n",
              "      <td>2</td>\n",
              "      <td>1.0</td>\n",
              "      <td>0.947683</td>\n",
              "      <td>1268</td>\n",
              "      <td>0.913187</td>\n",
              "      <td>3040</td>\n",
              "    </tr>\n",
              "    <tr>\n",
              "      <th>3</th>\n",
              "      <td>0</td>\n",
              "      <td>A060001004</td>\n",
              "      <td>A060000001</td>\n",
              "      <td>1</td>\n",
              "      <td>2020-03-24 00:17:29</td>\n",
              "      <td>7225</td>\n",
              "      <td>3.0</td>\n",
              "      <td>3</td>\n",
              "      <td>1.0</td>\n",
              "      <td>0.947683</td>\n",
              "      <td>1268</td>\n",
              "      <td>0.913187</td>\n",
              "      <td>3040</td>\n",
              "    </tr>\n",
              "    <tr>\n",
              "      <th>4</th>\n",
              "      <td>0</td>\n",
              "      <td>A060001005</td>\n",
              "      <td>A060000001</td>\n",
              "      <td>1</td>\n",
              "      <td>2020-03-24 00:17:36</td>\n",
              "      <td>7225</td>\n",
              "      <td>4.0</td>\n",
              "      <td>4</td>\n",
              "      <td>1.0</td>\n",
              "      <td>0.947683</td>\n",
              "      <td>1268</td>\n",
              "      <td>0.913187</td>\n",
              "      <td>3040</td>\n",
              "    </tr>\n",
              "  </tbody>\n",
              "</table>\n",
              "</div>"
            ],
            "text/plain": [
              "   userID assessmentItemID      testId  answerCode            Timestamp  \\\n",
              "0       0       A060001001  A060000001           1  2020-03-24 00:17:11   \n",
              "1       0       A060001002  A060000001           1  2020-03-24 00:17:14   \n",
              "2       0       A060001003  A060000001           1  2020-03-24 00:17:22   \n",
              "3       0       A060001004  A060000001           1  2020-03-24 00:17:29   \n",
              "4       0       A060001005  A060000001           1  2020-03-24 00:17:36   \n",
              "\n",
              "   KnowledgeTag  user_correct_answer  user_total_answer  user_acc  test_mean  \\\n",
              "0          7224                  NaN                  0       NaN   0.947683   \n",
              "1          7225                  1.0                  1       1.0   0.947683   \n",
              "2          7225                  2.0                  2       1.0   0.947683   \n",
              "3          7225                  3.0                  3       1.0   0.947683   \n",
              "4          7225                  4.0                  4       1.0   0.947683   \n",
              "\n",
              "   test_sum  tag_mean  tag_sum  \n",
              "0      1268  0.955022      637  \n",
              "1      1268  0.913187     3040  \n",
              "2      1268  0.913187     3040  \n",
              "3      1268  0.913187     3040  \n",
              "4      1268  0.913187     3040  "
            ]
          },
          "execution_count": 28,
          "metadata": {},
          "output_type": "execute_result"
        }
      ],
      "source": [
        "df = feature_engineering(df)\n",
        "df.head()"
      ]
    },
    {
      "cell_type": "markdown",
      "metadata": {
        "id": "5VZzei3DhfQy"
      },
      "source": [
        "## 3. Train/Test 데이터 셋 분리"
      ]
    },
    {
      "cell_type": "code",
      "execution_count": 29,
      "metadata": {
        "ExecuteTime": {
          "end_time": "2021-05-24T09:49:29.684739Z",
          "start_time": "2021-05-24T09:49:28.982Z"
        },
        "id": "YOPWK7ckhfQz"
      },
      "outputs": [],
      "source": [
        "# train과 test 데이터셋은 사용자 별로 묶어서 분리를 해주어야함\n",
        "random.seed(42)\n",
        "def custom_train_test_split(df, ratio=0.7, split=True):\n",
        "    \n",
        "    users = list(zip(df['userID'].value_counts().index, df['userID'].value_counts()))\n",
        "    random.shuffle(users)\n",
        "    \n",
        "    max_train_data_len = ratio*len(df)\n",
        "    sum_of_train_data = 0\n",
        "    user_ids =[]\n",
        "\n",
        "    for user_id, count in users:\n",
        "        sum_of_train_data += count\n",
        "        if max_train_data_len < sum_of_train_data:\n",
        "            break\n",
        "        user_ids.append(user_id)\n",
        "\n",
        "\n",
        "    train = df[df['userID'].isin(user_ids)]\n",
        "    test = df[df['userID'].isin(user_ids) == False]\n",
        "\n",
        "    #test데이터셋은 각 유저의 마지막 interaction만 추출\n",
        "    test = test[test['userID'] != test['userID'].shift(-1)]\n",
        "    return train, test"
      ]
    },
    {
      "cell_type": "code",
      "execution_count": 30,
      "metadata": {
        "ExecuteTime": {
          "end_time": "2021-05-24T09:49:29.686739Z",
          "start_time": "2021-05-24T09:49:28.984Z"
        },
        "id": "i3HzdoybhfQ0"
      },
      "outputs": [],
      "source": [
        "# 유저별 분리\n",
        "train, test = custom_train_test_split(df)\n",
        "\n",
        "# 사용할 Feature 설정\n",
        "FEATS = ['KnowledgeTag', 'user_correct_answer', 'user_total_answer', \n",
        "         'user_acc', 'test_mean', 'test_sum', 'tag_mean','tag_sum']\n",
        "\n",
        "# X, y 값 분리\n",
        "y_train = train['answerCode']\n",
        "train = train.drop(['answerCode'], axis=1)\n",
        "\n",
        "y_test = test['answerCode']\n",
        "test = test.drop(['answerCode'], axis=1)"
      ]
    },
    {
      "cell_type": "code",
      "execution_count": 31,
      "metadata": {
        "id": "Y4c-gjS2hfQ0"
      },
      "outputs": [],
      "source": [
        "# !pip install lightgbm"
      ]
    },
    {
      "cell_type": "code",
      "execution_count": 32,
      "metadata": {},
      "outputs": [],
      "source": [
        "import lightgbm as lgb\n",
        "from sklearn.metrics import roc_auc_score\n",
        "from sklearn.metrics import accuracy_score\n",
        "import numpy as np"
      ]
    },
    {
      "cell_type": "code",
      "execution_count": 33,
      "metadata": {},
      "outputs": [],
      "source": [
        "lgb_train = lgb.Dataset(train[FEATS], y_train)\n",
        "lgb_test = lgb.Dataset(test[FEATS], y_test)"
      ]
    },
    {
      "cell_type": "markdown",
      "metadata": {
        "id": "KiHss_BBhfQ2"
      },
      "source": [
        "## 4. 훈련 및 검증"
      ]
    },
    {
      "cell_type": "code",
      "execution_count": 34,
      "metadata": {},
      "outputs": [
        {
          "name": "stderr",
          "output_type": "stream",
          "text": [
            "/opt/conda/lib/python3.8/site-packages/lightgbm/engine.py:181: UserWarning: 'early_stopping_rounds' argument is deprecated and will be removed in a future release of LightGBM. Pass 'early_stopping()' callback via 'callbacks' argument instead.\n",
            "  _log_warning(\"'early_stopping_rounds' argument is deprecated and will be removed in a future release of LightGBM. \"\n",
            "/opt/conda/lib/python3.8/site-packages/lightgbm/engine.py:239: UserWarning: 'verbose_eval' argument is deprecated and will be removed in a future release of LightGBM. Pass 'log_evaluation()' callback via 'callbacks' argument instead.\n",
            "  _log_warning(\"'verbose_eval' argument is deprecated and will be removed in a future release of LightGBM. \"\n"
          ]
        },
        {
          "name": "stdout",
          "output_type": "stream",
          "text": [
            "[LightGBM] [Warning] Unknown parameter: n_itr\n",
            "[LightGBM] [Warning] Accuracy may be bad since you didn't explicitly set num_leaves OR 2^max_depth > num_leaves. (num_leaves=31).\n",
            "[LightGBM] [Warning] Unknown parameter: n_itr\n",
            "[LightGBM] [Warning] Accuracy may be bad since you didn't explicitly set num_leaves OR 2^max_depth > num_leaves. (num_leaves=31).\n",
            "[LightGBM] [Info] Number of positive: 1187785, number of negative: 624671\n",
            "[LightGBM] [Warning] Auto-choosing row-wise multi-threading, the overhead of testing was 0.008113 seconds.\n",
            "You can set `force_row_wise=true` to remove the overhead.\n",
            "And if memory is not enough, you can set `force_col_wise=true`.\n",
            "[LightGBM] [Info] Total Bins 2032\n",
            "[LightGBM] [Info] Number of data points in the train set: 1812456, number of used features: 8\n",
            "[LightGBM] [Warning] Unknown parameter: n_itr\n",
            "[LightGBM] [Warning] Accuracy may be bad since you didn't explicitly set num_leaves OR 2^max_depth > num_leaves. (num_leaves=31).\n",
            "[LightGBM] [Info] [binary:BoostFromScore]: pavg=0.655346 -> initscore=0.642620\n",
            "[LightGBM] [Info] Start training from score 0.642620\n"
          ]
        },
        {
          "name": "stderr",
          "output_type": "stream",
          "text": [
            "/opt/conda/lib/python3.8/site-packages/lightgbm/callback.py:223: UserWarning: Early stopping is not available in dart mode\n",
            "  _log_warning('Early stopping is not available in dart mode')\n"
          ]
        },
        {
          "name": "stdout",
          "output_type": "stream",
          "text": [
            "[100]\ttraining's binary_logloss: 0.611214\tvalid_1's binary_logloss: 0.712838\n",
            "VALID AUC : 0.6900443060185997 ACC : 0.4855662472242783\n",
            "\n"
          ]
        }
      ],
      "source": [
        "model = lgb.train(\n",
        "    {'objective': 'binary',\n",
        "    'metric' : 'binary_logloss', \n",
        "    'learning_rate': '0.01',\n",
        "    'n_itr': '1000',\n",
        "    'boosting' : 'dart',\n",
        "    # 'feature_fraction':'0.8',\n",
        "    # 'scale_pos_weight': '2',\n",
        "    # 'max_depth':'16'\n",
        "    },\n",
        "    lgb_train,\n",
        "    valid_sets = [lgb_train, lgb_test],\n",
        "    verbose_eval=100,\n",
        "    early_stopping_rounds=100\n",
        ")\n",
        "\n",
        "preds = model.predict(test[FEATS])\n",
        "acc = accuracy_score(y_test, np.where(preds >= 0.5, 1, 0))\n",
        "auc = roc_auc_score(y_test, preds)\n",
        "\n",
        "print(f'VALID AUC : {auc} ACC : {acc}\\n')"
      ]
    },
    {
      "cell_type": "code",
      "execution_count": 35,
      "metadata": {},
      "outputs": [],
      "source": [
        "# pip install matplotlib"
      ]
    },
    {
      "cell_type": "code",
      "execution_count": 36,
      "metadata": {
        "ExecuteTime": {
          "end_time": "2021-05-24T09:49:29.690738Z",
          "start_time": "2021-05-24T09:49:28.989Z"
        },
        "id": "CKRjM0rxhfQ2"
      },
      "outputs": [
        {
          "data": {
            "image/png": "[encoded data removed]",
            "text/plain": [
              "<Figure size 432x288 with 1 Axes>"
            ]
          },
          "metadata": {
            "needs_background": "light"
          },
          "output_type": "display_data"
        }
      ],
      "source": [
        "_ = lgb.plot_importance(model)"
      ]
    },
    {
      "cell_type": "markdown",
      "metadata": {
        "id": "8Bsff1ZVhfQ3"
      },
      "source": [
        "## 5. Inference"
      ]
    },
    {
      "cell_type": "code",
      "execution_count": 37,
      "metadata": {
        "ExecuteTime": {
          "end_time": "2021-05-24T09:49:29.691738Z",
          "start_time": "2021-05-24T09:49:28.992Z"
        },
        "id": "N6YEFm8IhfQ3"
      },
      "outputs": [],
      "source": [
        "# LOAD TESTDATA\n",
        "test_csv_file_path = os.path.join(data_dir, 'test_data.csv')\n",
        "test_df = pd.read_csv(test_csv_file_path)\n",
        "\n",
        "# FEATURE ENGINEERING\n",
        "test_df = feature_engineering(test_df)\n",
        "\n",
        "# LEAVE LAST INTERACTION ONLY\n",
        "test_df = test_df[test_df['userID'] != test_df['userID'].shift(-1)]\n",
        "\n",
        "# DROP ANSWERCODE\n",
        "test_df = test_df.drop(['answerCode'], axis=1)"
      ]
    },
    {
      "cell_type": "code",
      "execution_count": 38,
      "metadata": {},
      "outputs": [],
      "source": [
        "# MAKE PREDICTION\n",
        "total_preds = model.predict(test_df[FEATS])"
      ]
    },
    {
      "cell_type": "code",
      "execution_count": 39,
      "metadata": {},
      "outputs": [
        {
          "name": "stdout",
          "output_type": "stream",
          "text": [
            "writing prediction : output/submission.csv\n"
          ]
        }
      ],
      "source": [
        "# SAVE OUTPUT\n",
        "output_dir = 'output/'\n",
        "write_path = os.path.join(output_dir, \"submission.csv\")\n",
        "if not os.path.exists(output_dir):\n",
        "    os.makedirs(output_dir)\n",
        "with open(write_path, 'w', encoding='utf8') as w:\n",
        "    print(\"writing prediction : {}\".format(write_path))\n",
        "    w.write(\"id,prediction\\n\")\n",
        "    for id, p in enumerate(total_preds):\n",
        "        w.write('{},{}\\n'.format(id,p))"
      ]
    }
  ],
  "metadata": {
    "colab": {
      "collapsed_sections": [],
      "name": "(미션-2) LGBM Baseline.ipynb",
      "provenance": []
    },
    "kernelspec": {
      "display_name": "Python 3",
      "language": "python",
      "name": "python3"
    },
    "language_info": {
      "codemirror_mode": {
        "name": "ipython",
        "version": 3
      },
      "file_extension": ".py",
      "mimetype": "text/x-python",
      "name": "python",
      "nbconvert_exporter": "python",
      "pygments_lexer": "ipython3",
      "version": "3.8.5"
    },
    "toc": {
      "base_numbering": 1,
      "nav_menu": {},
      "number_sections": false,
      "sideBar": true,
      "skip_h1_title": false,
      "title_cell": "Table of Contents",
      "title_sidebar": "Contents",
      "toc_cell": false,
      "toc_position": {},
      "toc_section_display": true,
      "toc_window_display": true
    }
  },
  "nbformat": 4,
  "nbformat_minor": 0
}
